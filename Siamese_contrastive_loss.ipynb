{
  "nbformat": 4,
  "nbformat_minor": 0,
  "metadata": {
    "colab": {
      "provenance": [],
      "gpuType": "T4"
    },
    "kernelspec": {
      "name": "python3",
      "display_name": "Python 3"
    },
    "language_info": {
      "name": "python"
    },
    "accelerator": "GPU"
  },
  "cells": [
    {
      "cell_type": "code",
      "execution_count": null,
      "metadata": {
        "id": "bNfcmuIuluMZ"
      },
      "outputs": [],
      "source": [
        "import torch\n",
        "import torch.nn as nn\n",
        "import torch.optim as optim\n",
        "from torchvision import datasets, transforms\n",
        "from torch.utils.data import DataLoader, Dataset\n",
        "import numpy as np\n",
        "import random"
      ]
    },
    {
      "cell_type": "code",
      "source": [
        "# Siamese Network\n",
        "class SiameseNetwork(nn.Module):\n",
        "    def __init__(self):\n",
        "        super(SiameseNetwork, self).__init__()\n",
        "        self.convnet = nn.Sequential(\n",
        "            nn.Conv2d(1, 32, 5),\n",
        "            nn.ReLU(inplace=True),\n",
        "            nn.MaxPool2d(2, 2),\n",
        "            nn.Conv2d(32, 64, 5),\n",
        "            nn.ReLU(inplace=True),\n",
        "            nn.MaxPool2d(2, 2)\n",
        "        )\n",
        "\n",
        "        self.fc = nn.Sequential(\n",
        "            nn.Linear(1024, 256),\n",
        "            nn.ReLU(inplace=True),\n",
        "            nn.Linear(256, 256),\n",
        "            nn.ReLU(inplace=True),\n",
        "            nn.Linear(256, 2)\n",
        "        )\n",
        "\n",
        "    def forward_one(self, x):\n",
        "        x = self.convnet(x)\n",
        "        x = x.view(x.size()[0], -1)\n",
        "        x = self.fc(x)\n",
        "        return x\n",
        "\n",
        "    def forward(self, input1, input2):\n",
        "        output1 = self.forward_one(input1)\n",
        "        output2 = self.forward_one(input2)\n",
        "        return output1, output2"
      ],
      "metadata": {
        "id": "HhVf_sIdl1i-"
      },
      "execution_count": null,
      "outputs": []
    },
    {
      "cell_type": "code",
      "source": [
        "# Contrastive Loss\n",
        "class ContrastiveLoss(nn.Module):\n",
        "    def __init__(self, margin=2.0):\n",
        "        super(ContrastiveLoss, self).__init__()\n",
        "        self.margin = margin\n",
        "\n",
        "    def forward(self, output1, output2, label):\n",
        "        euclidean_distance = nn.functional.pairwise_distance(output1, output2)\n",
        "        loss_contrastive = torch.mean((1-label) * torch.pow(euclidean_distance, 2) +\n",
        "                                      (label) * torch.pow(torch.clamp(self.margin - euclidean_distance, min=0.0), 2))\n",
        "        return loss_contrastive"
      ],
      "metadata": {
        "id": "kZ5X0Vg2l45C"
      },
      "execution_count": null,
      "outputs": []
    },
    {
      "cell_type": "code",
      "source": [
        "# Siamese MNIST Dataset\n",
        "class SiameseMNIST(Dataset):\n",
        "    def __init__(self, mnist_dataset):\n",
        "        self.mnist_dataset = mnist_dataset\n",
        "        self.labels = mnist_dataset.targets\n",
        "        self.data = mnist_dataset.data\n",
        "        self.label_to_indices = {label: np.where(self.labels.numpy() == label)[0]\n",
        "                                 for label in np.unique(self.labels.numpy())}\n",
        "\n",
        "    def __getitem__(self, index):\n",
        "        target = np.random.randint(0, 2)\n",
        "        img1, label1 = self.data[index], self.labels[index].item()\n",
        "        if target == 1:\n",
        "            siamese_index = index\n",
        "            while siamese_index == index:\n",
        "                siamese_index = np.random.choice(self.label_to_indices[label1])\n",
        "        else:\n",
        "            siamese_label = np.random.choice(list(set(range(10)) - set([label1])))\n",
        "            siamese_index = np.random.choice(self.label_to_indices[siamese_label])\n",
        "        img2 = self.data[siamese_index]\n",
        "\n",
        "        # Ensure images are in the correct format (C, H, W)\n",
        "        img1 = img1.unsqueeze(0).float() / 255.0  # MNIST images are grayscale, so 1 channel\n",
        "        img2 = img2.unsqueeze(0).float() / 255.0\n",
        "\n",
        "        return img1, img2, torch.from_numpy(np.array([target], dtype=np.float32))\n",
        "\n",
        "    def __len__(self):\n",
        "        return len(self.mnist_dataset)\n"
      ],
      "metadata": {
        "id": "j7ZSsZn3m5ki"
      },
      "execution_count": null,
      "outputs": []
    },
    {
      "cell_type": "code",
      "source": [
        "# Loading the MNIST dataset\n",
        "train_dataset = datasets.MNIST(root='./data', train=True, download=True, transform=transforms.ToTensor())\n",
        "test_dataset = datasets.MNIST(root='./data', train=False, download=True, transform=transforms.ToTensor())\n",
        "\n",
        "# Creating the SiameseMNIST dataset\n",
        "siamese_train_dataset = SiameseMNIST(train_dataset)\n",
        "siamese_test_dataset = SiameseMNIST(test_dataset)\n",
        "\n",
        "# Data loaders\n",
        "train_loader = DataLoader(siamese_train_dataset, shuffle=True, batch_size=1024)\n",
        "test_loader = DataLoader(siamese_test_dataset, shuffle=False, batch_size=1024)\n"
      ],
      "metadata": {
        "id": "BDJYvjc3nRcJ"
      },
      "execution_count": null,
      "outputs": []
    },
    {
      "cell_type": "code",
      "source": [
        "def train(model, criterion, optimizer, num_epochs=1):\n",
        "    model.train()\n",
        "    for epoch in range(num_epochs):\n",
        "        for data in train_loader:\n",
        "            img1, img2, target = data\n",
        "            img1 = img1.to(\"cuda\")\n",
        "            img2 = img2.to(\"cuda\")\n",
        "            target = target.to(\"cuda\")\n",
        "            optimizer.zero_grad()\n",
        "            output1, output2 = model(img1, img2)\n",
        "            loss = criterion(output1, output2, target)\n",
        "            loss.backward()\n",
        "            optimizer.step()\n",
        "        print(f'Epoch [{epoch+1}/{num_epochs}], Loss: {loss.item():.4f}')\n",
        "\n",
        "\n",
        "\n",
        "# Initialize network, criterion, and optimizer\n",
        "net = SiameseNetwork().to(\"cuda\")\n",
        "criterion = ContrastiveLoss()\n",
        "optimizer = optim.Adam(net.parameters(), lr=0.001)\n",
        "\n",
        "# Train and evaluate the model\n",
        "train(net, criterion, optimizer, num_epochs=5)\n",
        "\n"
      ],
      "metadata": {
        "colab": {
          "base_uri": "https://localhost:8080/"
        },
        "id": "DFoW1L3Sl-rm",
        "outputId": "f2f3c568-d57b-4f73-d2cf-cdd91fda4812"
      },
      "execution_count": null,
      "outputs": [
        {
          "output_type": "stream",
          "name": "stdout",
          "text": [
            "Epoch [1/5], Loss: 1.2084\n",
            "Epoch [2/5], Loss: 1.2107\n",
            "Epoch [3/5], Loss: 1.1760\n",
            "Epoch [4/5], Loss: 1.2247\n",
            "Epoch [5/5], Loss: 1.2306\n"
          ]
        }
      ]
    },
    {
      "cell_type": "code",
      "source": [],
      "metadata": {
        "id": "ajXtwj8867RZ"
      },
      "execution_count": null,
      "outputs": []
    }
  ]
}